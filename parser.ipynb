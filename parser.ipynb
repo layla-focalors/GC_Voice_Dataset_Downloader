{
 "cells": [
  {
   "cell_type": "code",
   "execution_count": 1,
   "metadata": {},
   "outputs": [
    {
     "name": "stdout",
     "output_type": "stream",
     "text": [
      "Requirement already satisfied: pandas in c:\\users\\starl\\appdata\\local\\programs\\python\\python310\\lib\\site-packages (2.2.0)\n",
      "Requirement already satisfied: numpy<2,>=1.22.4 in c:\\users\\starl\\appdata\\local\\programs\\python\\python310\\lib\\site-packages (from pandas) (1.26.3)\n",
      "Requirement already satisfied: python-dateutil>=2.8.2 in c:\\users\\starl\\appdata\\local\\programs\\python\\python310\\lib\\site-packages (from pandas) (2.8.2)\n",
      "Requirement already satisfied: pytz>=2020.1 in c:\\users\\starl\\appdata\\local\\programs\\python\\python310\\lib\\site-packages (from pandas) (2023.3.post1)\n",
      "Requirement already satisfied: tzdata>=2022.7 in c:\\users\\starl\\appdata\\local\\programs\\python\\python310\\lib\\site-packages (from pandas) (2023.4)\n",
      "Requirement already satisfied: six>=1.5 in c:\\users\\starl\\appdata\\local\\programs\\python\\python310\\lib\\site-packages (from python-dateutil>=2.8.2->pandas) (1.16.0)\n",
      "Note: you may need to restart the kernel to use updated packages.\n"
     ]
    },
    {
     "name": "stderr",
     "output_type": "stream",
     "text": [
      "\n",
      "[notice] A new release of pip is available: 23.3.2 -> 24.0\n",
      "[notice] To update, run: python.exe -m pip install --upgrade pip\n"
     ]
    }
   ],
   "source": [
    "%pip install pandas"
   ]
  },
  {
   "cell_type": "code",
   "execution_count": 5,
   "metadata": {},
   "outputs": [
    {
     "name": "stdout",
     "output_type": "stream",
     "text": [
      "Albedo\n",
      "Alhaitham\n",
      "Arataki Itto\n",
      "Baizhu\n",
      "Cyno\n",
      "Eula\n",
      "Furina\n",
      "Ganyu\n",
      "Hu Tao\n",
      "Kaedehara Kazuha\n",
      "Kamisato Ayaka\n",
      "Kamisato Ayato\n",
      "Klee\n",
      "Lyney\n",
      "Nahida\n",
      "Navia\n",
      "Neuvillette\n",
      "Nilou\n",
      "Raiden Shogun\n",
      "Sangonomiya Kokomi\n",
      "Shenhe\n",
      "Tartaglia\n",
      "Venti\n",
      "Wanderer\n",
      "Wriothesley\n",
      "Xianyun\n",
      "Xiao\n",
      "Yae Miko\n",
      "Yelan\n",
      "Yoimiya\n",
      "Zhongli\n",
      "['Albedo', 'Alhaitham', 'Arataki Itto', 'Baizhu', 'Cyno', 'Eula', 'Furina', 'Ganyu', 'Hu Tao', 'Kaedehara Kazuha', 'Kamisato Ayaka', 'Kamisato Ayato', 'Klee', 'Lyney', 'Nahida', 'Navia', 'Neuvillette', 'Nilou', 'Raiden Shogun', 'Sangonomiya Kokomi', 'Shenhe', 'Tartaglia', 'Venti', 'Wanderer', 'Wriothesley', 'Xianyun', 'Xiao', 'Yae Miko', 'Yelan', 'Yoimiya', 'Zhongli']\n"
     ]
    }
   ],
   "source": [
    "# This File is Parsing xlsx & output charactor name\n",
    "import pandas as pd\n",
    "\n",
    "df = pd.read_csv('data.csv')\n",
    "# print(df['Name'])\n",
    "\n",
    "datas = []\n",
    "\n",
    "for i in df['Name']:\n",
    "    print(i)\n",
    "    datas.append(i)\n",
    "    \n",
    "print(datas)"
   ]
  }
 ],
 "metadata": {
  "kernelspec": {
   "display_name": "Python 3",
   "language": "python",
   "name": "python3"
  },
  "language_info": {
   "codemirror_mode": {
    "name": "ipython",
    "version": 3
   },
   "file_extension": ".py",
   "mimetype": "text/x-python",
   "name": "python",
   "nbconvert_exporter": "python",
   "pygments_lexer": "ipython3",
   "version": "3.10.6"
  }
 },
 "nbformat": 4,
 "nbformat_minor": 2
}
