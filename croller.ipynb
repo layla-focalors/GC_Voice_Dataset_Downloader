{
 "cells": [
  {
   "cell_type": "code",
   "execution_count": null,
   "metadata": {},
   "outputs": [],
   "source": [
    "# install Package\n",
    "# Code By Layla-focalors\n",
    "# Voice Copyrights : Genshin Impact & GC_Fandom\n"
   ]
  },
  {
   "cell_type": "code",
   "execution_count": null,
   "metadata": {},
   "outputs": [],
   "source": []
  }
 ],
 "metadata": {
  "language_info": {
   "name": "python"
  }
 },
 "nbformat": 4,
 "nbformat_minor": 2
}
